{
 "cells": [
  {
   "cell_type": "code",
   "execution_count": null,
   "id": "initial_id",
   "metadata": {
    "collapsed": true
   },
   "outputs": [],
   "source": [
    "from src.water_mask_class import WaterMaskClass\n",
    "\n",
    "wm = WaterMaskClass()\n",
    "\n",
    "# input\n",
    "mask_method = \"image_based\" # \"image_based\" or \"jrc_based\"\n",
    "img_path = 'path to your image'\n",
    "\n",
    "wm.get_mask_water(mask_method, img_path)"
   ]
  }
 ],
 "metadata": {
  "kernelspec": {
   "display_name": "Python 3",
   "language": "python",
   "name": "python3"
  },
  "language_info": {
   "codemirror_mode": {
    "name": "ipython",
    "version": 2
   },
   "file_extension": ".py",
   "mimetype": "text/x-python",
   "name": "python",
   "nbconvert_exporter": "python",
   "pygments_lexer": "ipython2",
   "version": "2.7.6"
  }
 },
 "nbformat": 4,
 "nbformat_minor": 5
}
