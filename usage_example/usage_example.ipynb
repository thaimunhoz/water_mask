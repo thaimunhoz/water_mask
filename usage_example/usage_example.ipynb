{
 "cells": [
  {
   "cell_type": "code",
   "execution_count": 1,
   "id": "initial_id",
   "metadata": {
    "collapsed": true,
    "ExecuteTime": {
     "end_time": "2025-03-01T22:00:07.720176Z",
     "start_time": "2025-03-01T21:58:49.813288400Z"
    }
   },
   "outputs": [
    {
     "name": "stderr",
     "output_type": "stream",
     "text": [
      "INFO:pyogrio._io:Created 2,500 records\n",
      "INFO:src.water_mask_class:Water mask saved!\n"
     ]
    }
   ],
   "source": [
    "import ee\n",
    "from src.water_mask_class import WaterMaskClass\n",
    "\n",
    "wm = WaterMaskClass()\n",
    "\n",
    "ee.Initialize()\n",
    "\n",
    "# input\n",
    "mask_method = \"image_based\" # \"image_based\" or \"jrc_based\"\n",
    "img_path = r'Z:\\guser\\tml\\mypapers\\HLS_package_paper\\HLS_DATASET_new\\landsat\\21HVB\\atmcor\\landsat\\21HVB\\LC08_L1TP_224084_20230409_20230420_02_T1\\LC08_L1TP_224084_20230409_20230420_02_T1'\n",
    "\n",
    "wm.get_mask_water(mask_method, img_path)"
   ]
  },
  {
   "cell_type": "code",
   "execution_count": null,
   "outputs": [],
   "source": [],
   "metadata": {
    "collapsed": false,
    "ExecuteTime": {
     "end_time": "2025-03-01T21:58:36.535772200Z",
     "start_time": "2025-03-01T21:58:36.535264200Z"
    }
   },
   "id": "8be25714bdf22cba"
  },
  {
   "cell_type": "code",
   "execution_count": null,
   "outputs": [],
   "source": [],
   "metadata": {
    "collapsed": false
   },
   "id": "dfd13ef87a902bb1"
  }
 ],
 "metadata": {
  "kernelspec": {
   "display_name": "Python 3",
   "language": "python",
   "name": "python3"
  },
  "language_info": {
   "codemirror_mode": {
    "name": "ipython",
    "version": 2
   },
   "file_extension": ".py",
   "mimetype": "text/x-python",
   "name": "python",
   "nbconvert_exporter": "python",
   "pygments_lexer": "ipython2",
   "version": "2.7.6"
  }
 },
 "nbformat": 4,
 "nbformat_minor": 5
}
