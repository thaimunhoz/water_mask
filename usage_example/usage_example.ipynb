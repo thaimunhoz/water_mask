{
 "cells": [
  {
   "cell_type": "code",
   "execution_count": 1,
   "id": "initial_id",
   "metadata": {
    "collapsed": true,
    "ExecuteTime": {
     "end_time": "2025-02-24T23:10:34.042348500Z",
     "start_time": "2025-02-24T23:10:30.298328400Z"
    }
   },
   "outputs": [
    {
     "name": "stderr",
     "output_type": "stream",
     "text": [
      "WARNING:googleapiclient.http:Encountered 403 Forbidden with reason \"PERMISSION_DENIED\"\n"
     ]
    },
    {
     "ename": "EEException",
     "evalue": "Not signed up for Earth Engine or project is not registered. Visit https://developers.google.com/earth-engine/guides/access",
     "output_type": "error",
     "traceback": [
      "\u001B[1;31m---------------------------------------------------------------------------\u001B[0m",
      "\u001B[1;31mHttpError\u001B[0m                                 Traceback (most recent call last)",
      "File \u001B[1;32m~\\AppData\\Local\\anaconda3\\envs\\geospatial\\Lib\\site-packages\\ee\\data.py:406\u001B[0m, in \u001B[0;36m_execute_cloud_call\u001B[1;34m(call, num_retries)\u001B[0m\n\u001B[0;32m    405\u001B[0m \u001B[38;5;28;01mtry\u001B[39;00m:\n\u001B[1;32m--> 406\u001B[0m   \u001B[38;5;28;01mreturn\u001B[39;00m \u001B[43mcall\u001B[49m\u001B[38;5;241;43m.\u001B[39;49m\u001B[43mexecute\u001B[49m\u001B[43m(\u001B[49m\u001B[43mnum_retries\u001B[49m\u001B[38;5;241;43m=\u001B[39;49m\u001B[43mnum_retries\u001B[49m\u001B[43m)\u001B[49m\n\u001B[0;32m    407\u001B[0m \u001B[38;5;28;01mexcept\u001B[39;00m googleapiclient\u001B[38;5;241m.\u001B[39merrors\u001B[38;5;241m.\u001B[39mHttpError \u001B[38;5;28;01mas\u001B[39;00m e:\n",
      "File \u001B[1;32m~\\AppData\\Local\\anaconda3\\envs\\geospatial\\Lib\\site-packages\\googleapiclient\\_helpers.py:130\u001B[0m, in \u001B[0;36mpositional.<locals>.positional_decorator.<locals>.positional_wrapper\u001B[1;34m(*args, **kwargs)\u001B[0m\n\u001B[0;32m    129\u001B[0m         logger\u001B[38;5;241m.\u001B[39mwarning(message)\n\u001B[1;32m--> 130\u001B[0m \u001B[38;5;28;01mreturn\u001B[39;00m \u001B[43mwrapped\u001B[49m\u001B[43m(\u001B[49m\u001B[38;5;241;43m*\u001B[39;49m\u001B[43margs\u001B[49m\u001B[43m,\u001B[49m\u001B[43m \u001B[49m\u001B[38;5;241;43m*\u001B[39;49m\u001B[38;5;241;43m*\u001B[39;49m\u001B[43mkwargs\u001B[49m\u001B[43m)\u001B[49m\n",
      "File \u001B[1;32m~\\AppData\\Local\\anaconda3\\envs\\geospatial\\Lib\\site-packages\\googleapiclient\\http.py:938\u001B[0m, in \u001B[0;36mHttpRequest.execute\u001B[1;34m(self, http, num_retries)\u001B[0m\n\u001B[0;32m    937\u001B[0m \u001B[38;5;28;01mif\u001B[39;00m resp\u001B[38;5;241m.\u001B[39mstatus \u001B[38;5;241m>\u001B[39m\u001B[38;5;241m=\u001B[39m \u001B[38;5;241m300\u001B[39m:\n\u001B[1;32m--> 938\u001B[0m     \u001B[38;5;28;01mraise\u001B[39;00m HttpError(resp, content, uri\u001B[38;5;241m=\u001B[39m\u001B[38;5;28mself\u001B[39m\u001B[38;5;241m.\u001B[39muri)\n\u001B[0;32m    939\u001B[0m \u001B[38;5;28;01mreturn\u001B[39;00m \u001B[38;5;28mself\u001B[39m\u001B[38;5;241m.\u001B[39mpostproc(resp, content)\n",
      "\u001B[1;31mHttpError\u001B[0m: <HttpError 403 when requesting https://earthengine.googleapis.com/v1/projects/earthengine-legacy/algorithms?prettyPrint=false&alt=json returned \"Not signed up for Earth Engine or project is not registered. Visit https://developers.google.com/earth-engine/guides/access\". Details: \"Not signed up for Earth Engine or project is not registered. Visit https://developers.google.com/earth-engine/guides/access\">",
      "\nDuring handling of the above exception, another exception occurred:\n",
      "\u001B[1;31mEEException\u001B[0m                               Traceback (most recent call last)",
      "Cell \u001B[1;32mIn[1], line 4\u001B[0m\n\u001B[0;32m      1\u001B[0m \u001B[38;5;28;01mimport\u001B[39;00m \u001B[38;5;21;01mee\u001B[39;00m\n\u001B[0;32m      2\u001B[0m \u001B[38;5;28;01mfrom\u001B[39;00m \u001B[38;5;21;01msrc\u001B[39;00m\u001B[38;5;21;01m.\u001B[39;00m\u001B[38;5;21;01mwater_mask_class\u001B[39;00m \u001B[38;5;28;01mimport\u001B[39;00m WaterMaskClass\n\u001B[1;32m----> 4\u001B[0m wm \u001B[38;5;241m=\u001B[39m \u001B[43mWaterMaskClass\u001B[49m\u001B[43m(\u001B[49m\u001B[43m)\u001B[49m\n\u001B[0;32m      6\u001B[0m service_account \u001B[38;5;241m=\u001B[39m \u001B[38;5;124m'\u001B[39m\u001B[38;5;124mmy-service-account@...gserviceaccount.com\u001B[39m\u001B[38;5;124m'\u001B[39m\n\u001B[0;32m      7\u001B[0m key_file \u001B[38;5;241m=\u001B[39m \u001B[38;5;124mr\u001B[39m\u001B[38;5;124m'\u001B[39m\u001B[38;5;124mH:\u001B[39m\u001B[38;5;124m\\\u001B[39m\u001B[38;5;124mMy Drive\u001B[39m\u001B[38;5;124m\\\u001B[39m\u001B[38;5;124mPhD\u001B[39m\u001B[38;5;124m\\\u001B[39m\u001B[38;5;124mwater_mask_package\u001B[39m\u001B[38;5;124m\\\u001B[39m\u001B[38;5;124musage_example\u001B[39m\u001B[38;5;124m\\\u001B[39m\u001B[38;5;124mmy-project-teste-436613-65eb703f84ab.json\u001B[39m\u001B[38;5;124m'\u001B[39m\n",
      "File \u001B[1;32mH:\\My Drive\\PhD\\water_mask_package\\src\\water_mask_class.py:29\u001B[0m, in \u001B[0;36mWaterMaskClass.__init__\u001B[1;34m(self)\u001B[0m\n\u001B[0;32m     28\u001B[0m \u001B[38;5;28;01mdef\u001B[39;00m \u001B[38;5;21m__init__\u001B[39m(\u001B[38;5;28mself\u001B[39m):\n\u001B[1;32m---> 29\u001B[0m     \u001B[43mee\u001B[49m\u001B[38;5;241;43m.\u001B[39;49m\u001B[43mInitialize\u001B[49m\u001B[43m(\u001B[49m\u001B[43m)\u001B[49m\n",
      "File \u001B[1;32m~\\AppData\\Local\\anaconda3\\envs\\geospatial\\Lib\\site-packages\\ee\\_utils.py:38\u001B[0m, in \u001B[0;36maccept_opt_prefix.<locals>.opt_fixed.<locals>.wrapper\u001B[1;34m(*args, **kwargs)\u001B[0m\n\u001B[0;32m     36\u001B[0m     \u001B[38;5;28;01mif\u001B[39;00m new_key \u001B[38;5;129;01mnot\u001B[39;00m \u001B[38;5;129;01min\u001B[39;00m kwargs:\n\u001B[0;32m     37\u001B[0m       kwargs[new_key] \u001B[38;5;241m=\u001B[39m old_key_val\n\u001B[1;32m---> 38\u001B[0m \u001B[38;5;28;01mreturn\u001B[39;00m \u001B[43mfunc\u001B[49m\u001B[43m(\u001B[49m\u001B[38;5;241;43m*\u001B[39;49m\u001B[43margs\u001B[49m\u001B[43m,\u001B[49m\u001B[43m \u001B[49m\u001B[38;5;241;43m*\u001B[39;49m\u001B[38;5;241;43m*\u001B[39;49m\u001B[43mkwargs\u001B[49m\u001B[43m)\u001B[49m\n",
      "File \u001B[1;32m~\\AppData\\Local\\anaconda3\\envs\\geospatial\\Lib\\site-packages\\ee\\__init__.py:213\u001B[0m, in \u001B[0;36mInitialize\u001B[1;34m(credentials, url, cloud_api_key, http_transport, project)\u001B[0m\n\u001B[0;32m    211\u001B[0m   \u001B[38;5;28;01mif\u001B[39;00m (adc_err \u001B[38;5;129;01min\u001B[39;00m \u001B[38;5;28mstr\u001B[39m(e)) \u001B[38;5;129;01mor\u001B[39;00m (matches \u001B[38;5;129;01mand\u001B[39;00m oauth\u001B[38;5;241m.\u001B[39mis_sdk_project(matches[\u001B[38;5;241m1\u001B[39m])):\n\u001B[0;32m    212\u001B[0m     \u001B[38;5;28;01mraise\u001B[39;00m EEException(NO_PROJECT_EXCEPTION) \u001B[38;5;28;01mfrom\u001B[39;00m \u001B[38;5;28;01mNone\u001B[39;00m\n\u001B[1;32m--> 213\u001B[0m   \u001B[38;5;28;01mraise\u001B[39;00m e\n\u001B[0;32m    215\u001B[0m \u001B[38;5;28;01mfor\u001B[39;00m dynamic_class \u001B[38;5;129;01min\u001B[39;00m _DYNAMIC_CLASSES:\n\u001B[0;32m    216\u001B[0m   dynamic_class\u001B[38;5;241m.\u001B[39minitialize()\n",
      "File \u001B[1;32m~\\AppData\\Local\\anaconda3\\envs\\geospatial\\Lib\\site-packages\\ee\\__init__.py:204\u001B[0m, in \u001B[0;36mInitialize\u001B[1;34m(credentials, url, cloud_api_key, http_transport, project)\u001B[0m\n\u001B[0;32m    202\u001B[0m \u001B[38;5;66;03m# Initialize the dynamically loaded functions on the objects that want them.\u001B[39;00m\n\u001B[0;32m    203\u001B[0m \u001B[38;5;28;01mtry\u001B[39;00m:\n\u001B[1;32m--> 204\u001B[0m   \u001B[43mApiFunction\u001B[49m\u001B[38;5;241;43m.\u001B[39;49m\u001B[43minitialize\u001B[49m\u001B[43m(\u001B[49m\u001B[43m)\u001B[49m\n\u001B[0;32m    205\u001B[0m \u001B[38;5;28;01mexcept\u001B[39;00m EEException \u001B[38;5;28;01mas\u001B[39;00m e:\n\u001B[0;32m    206\u001B[0m   \u001B[38;5;66;03m# We tried to detect missing projects before initialization, but some cases\u001B[39;00m\n\u001B[0;32m    207\u001B[0m   \u001B[38;5;66;03m# like Colab hide the project, so check errors from missing projects too.\u001B[39;00m\n\u001B[0;32m    208\u001B[0m   adc_err \u001B[38;5;241m=\u001B[39m \u001B[38;5;124m'\u001B[39m\u001B[38;5;124mauthenticating by using local Application Default Credentials\u001B[39m\u001B[38;5;124m'\u001B[39m\n",
      "File \u001B[1;32m~\\AppData\\Local\\anaconda3\\envs\\geospatial\\Lib\\site-packages\\ee\\apifunction.py:161\u001B[0m, in \u001B[0;36mApiFunction.initialize\u001B[1;34m(cls)\u001B[0m\n\u001B[0;32m    159\u001B[0m \u001B[38;5;250m\u001B[39m\u001B[38;5;124;03m\"\"\"Initializes the list of signatures from the Earth Engine front-end.\"\"\"\u001B[39;00m\n\u001B[0;32m    160\u001B[0m \u001B[38;5;28;01mif\u001B[39;00m \u001B[38;5;129;01mnot\u001B[39;00m \u001B[38;5;28mcls\u001B[39m\u001B[38;5;241m.\u001B[39m_api:\n\u001B[1;32m--> 161\u001B[0m   signatures \u001B[38;5;241m=\u001B[39m \u001B[43mdata\u001B[49m\u001B[38;5;241;43m.\u001B[39;49m\u001B[43mgetAlgorithms\u001B[49m\u001B[43m(\u001B[49m\u001B[43m)\u001B[49m\n\u001B[0;32m    162\u001B[0m   api \u001B[38;5;241m=\u001B[39m {}\n\u001B[0;32m    163\u001B[0m   \u001B[38;5;28;01mfor\u001B[39;00m name, sig \u001B[38;5;129;01min\u001B[39;00m signatures\u001B[38;5;241m.\u001B[39mitems():\n\u001B[0;32m    164\u001B[0m     \u001B[38;5;66;03m# Strip type parameters.\u001B[39;00m\n",
      "File \u001B[1;32m~\\AppData\\Local\\anaconda3\\envs\\geospatial\\Lib\\site-packages\\ee\\data.py:1497\u001B[0m, in \u001B[0;36mgetAlgorithms\u001B[1;34m()\u001B[0m\n\u001B[0;32m   1492\u001B[0m     \u001B[38;5;28mprint\u001B[39m(\n\u001B[0;32m   1493\u001B[0m         \u001B[38;5;124m'\u001B[39m\u001B[38;5;124m*** Earth Engine ***\u001B[39m\u001B[38;5;124m'\u001B[39m,\n\u001B[0;32m   1494\u001B[0m         response[_INIT_MESSAGE_HEADER],\n\u001B[0;32m   1495\u001B[0m         file\u001B[38;5;241m=\u001B[39msys\u001B[38;5;241m.\u001B[39mstderr)\n\u001B[0;32m   1496\u001B[0m call\u001B[38;5;241m.\u001B[39madd_response_callback(inspect)\n\u001B[1;32m-> 1497\u001B[0m \u001B[38;5;28;01mreturn\u001B[39;00m _cloud_api_utils\u001B[38;5;241m.\u001B[39mconvert_algorithms(\u001B[43m_execute_cloud_call\u001B[49m\u001B[43m(\u001B[49m\u001B[43mcall\u001B[49m\u001B[43m)\u001B[49m)\n",
      "File \u001B[1;32m~\\AppData\\Local\\anaconda3\\envs\\geospatial\\Lib\\site-packages\\ee\\data.py:408\u001B[0m, in \u001B[0;36m_execute_cloud_call\u001B[1;34m(call, num_retries)\u001B[0m\n\u001B[0;32m    406\u001B[0m   \u001B[38;5;28;01mreturn\u001B[39;00m call\u001B[38;5;241m.\u001B[39mexecute(num_retries\u001B[38;5;241m=\u001B[39mnum_retries)\n\u001B[0;32m    407\u001B[0m \u001B[38;5;28;01mexcept\u001B[39;00m googleapiclient\u001B[38;5;241m.\u001B[39merrors\u001B[38;5;241m.\u001B[39mHttpError \u001B[38;5;28;01mas\u001B[39;00m e:\n\u001B[1;32m--> 408\u001B[0m   \u001B[38;5;28;01mraise\u001B[39;00m _translate_cloud_exception(e)\n",
      "\u001B[1;31mEEException\u001B[0m: Not signed up for Earth Engine or project is not registered. Visit https://developers.google.com/earth-engine/guides/access"
     ]
    }
   ],
   "source": [
    "import ee\n",
    "from src.water_mask_class import WaterMaskClass\n",
    "\n",
    "wm = WaterMaskClass()\n",
    "\n",
    "service_account = 'my-service-account@...gserviceaccount.com'\n",
    "key_file = r'H:\\My Drive\\PhD\\water_mask_package\\usage_example\\my-project-teste-436613-65eb703f84ab.json'\n",
    "credentials = ee.ServiceAccountCredentials(service_account, key_file)\n",
    "ee.Initialize(credentials)\n",
    "\n",
    "# input\n",
    "mask_method = \"image_based\" # \"image_based\" or \"jrc_based\"\n",
    "img_path = r'Z:\\guser\\tml\\mypapers\\HLS_package_paper\\HLS_DATASET_new\\sentinel\\hlswater\\21HVB\\HLS_T21HVB_20231221T133839_S30_v1.0'\n",
    "\n",
    "wm.get_mask_water(mask_method, img_path)"
   ]
  },
  {
   "cell_type": "code",
   "execution_count": null,
   "outputs": [],
   "source": [],
   "metadata": {
    "collapsed": false
   },
   "id": "cb0de7a612a1d88c"
  }
 ],
 "metadata": {
  "kernelspec": {
   "display_name": "Python 3",
   "language": "python",
   "name": "python3"
  },
  "language_info": {
   "codemirror_mode": {
    "name": "ipython",
    "version": 2
   },
   "file_extension": ".py",
   "mimetype": "text/x-python",
   "name": "python",
   "nbconvert_exporter": "python",
   "pygments_lexer": "ipython2",
   "version": "2.7.6"
  }
 },
 "nbformat": 4,
 "nbformat_minor": 5
}
